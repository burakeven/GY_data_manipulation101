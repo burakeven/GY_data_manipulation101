{
 "cells": [
  {
   "cell_type": "markdown",
   "id": "fe2c0b0a-cc15-4db6-a909-99249abd21be",
   "metadata": {},
   "source": [
    "# Numpy ile İki Bilinmeyenli Denklem"
   ]
  },
  {
   "cell_type": "code",
   "execution_count": 1,
   "id": "5c23b8b5-cb97-4956-b679-1a4f9284d4aa",
   "metadata": {},
   "outputs": [],
   "source": [
    "import numpy as np"
   ]
  },
  {
   "cell_type": "markdown",
   "id": "e37db4c8-7a36-4fdc-a0c7-9dc1882ec2b1",
   "metadata": {},
   "source": [
    "5 *x0+x1 =12\n",
    "x0+3*x1=10"
   ]
  },
  {
   "cell_type": "code",
   "execution_count": 5,
   "id": "b0b02aed-5339-4759-beae-45e9ea0c7828",
   "metadata": {},
   "outputs": [],
   "source": [
    "a = np.array([[5,1],[1,3]])\n",
    "b= np.array([12,10])"
   ]
  },
  {
   "cell_type": "code",
   "execution_count": 7,
   "id": "802473bf-75f6-4058-ba0f-ace342615b62",
   "metadata": {},
   "outputs": [
    {
     "data": {
      "text/plain": [
       "array([[5, 1],\n",
       "       [1, 3]])"
      ]
     },
     "execution_count": 7,
     "metadata": {},
     "output_type": "execute_result"
    }
   ],
   "source": [
    "a\n"
   ]
  },
  {
   "cell_type": "code",
   "execution_count": 8,
   "id": "9e902ee2-ecf1-4e10-9edc-fd09955fa14d",
   "metadata": {},
   "outputs": [
    {
     "data": {
      "text/plain": [
       "array([12, 10])"
      ]
     },
     "execution_count": 8,
     "metadata": {},
     "output_type": "execute_result"
    }
   ],
   "source": [
    "b"
   ]
  },
  {
   "cell_type": "code",
   "execution_count": 9,
   "id": "53bf9fa2-4e59-496e-80e5-ca61df448d65",
   "metadata": {},
   "outputs": [],
   "source": [
    "x = np.linalg.solve(a,b)"
   ]
  },
  {
   "cell_type": "code",
   "execution_count": 10,
   "id": "308f445f-c6fa-423c-857b-9d8f1634484e",
   "metadata": {},
   "outputs": [
    {
     "data": {
      "text/plain": [
       "array([1.85714286, 2.71428571])"
      ]
     },
     "execution_count": 10,
     "metadata": {},
     "output_type": "execute_result"
    }
   ],
   "source": [
    "x"
   ]
  },
  {
   "cell_type": "code",
   "execution_count": null,
   "id": "338b4007-4770-44e4-8311-2ad589ab6fbc",
   "metadata": {},
   "outputs": [],
   "source": []
  }
 ],
 "metadata": {
  "kernelspec": {
   "display_name": "Python 3",
   "language": "python",
   "name": "python3"
  },
  "language_info": {
   "codemirror_mode": {
    "name": "ipython",
    "version": 3
   },
   "file_extension": ".py",
   "mimetype": "text/x-python",
   "name": "python",
   "nbconvert_exporter": "python",
   "pygments_lexer": "ipython3",
   "version": "3.8.8"
  }
 },
 "nbformat": 4,
 "nbformat_minor": 5
}
