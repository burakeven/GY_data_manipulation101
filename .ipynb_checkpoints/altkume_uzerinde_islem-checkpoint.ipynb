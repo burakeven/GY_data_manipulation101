{
 "cells": [
  {
   "cell_type": "markdown",
   "id": "8ed84d6c-9b73-4fc7-b02c-9d4a229a02e9",
   "metadata": {},
   "source": [
    "# ALT KUME UZERINDE ISLEM YAPMAK"
   ]
  },
  {
   "cell_type": "code",
   "execution_count": 1,
   "id": "32300fb3-b9fa-4e83-b895-f0de28034a5a",
   "metadata": {},
   "outputs": [],
   "source": [
    "import numpy as np"
   ]
  },
  {
   "cell_type": "code",
   "execution_count": 2,
   "id": "260da24b-98d0-4037-a246-41609c8201ea",
   "metadata": {},
   "outputs": [
    {
     "data": {
      "text/plain": [
       "array([[5, 3, 0, 1, 0],\n",
       "       [2, 7, 2, 3, 0],\n",
       "       [8, 2, 3, 1, 1],\n",
       "       [2, 7, 0, 4, 2],\n",
       "       [9, 6, 9, 8, 1]])"
      ]
     },
     "execution_count": 2,
     "metadata": {},
     "output_type": "execute_result"
    }
   ],
   "source": [
    "a = np.random.randint(10, size=(5,5))\n",
    "a"
   ]
  },
  {
   "cell_type": "code",
   "execution_count": 3,
   "id": "25e5f113-267e-4cfd-92fd-34f31e879006",
   "metadata": {},
   "outputs": [
    {
     "data": {
      "text/plain": [
       "array([[5, 3],\n",
       "       [2, 7],\n",
       "       [8, 2]])"
      ]
     },
     "execution_count": 3,
     "metadata": {},
     "output_type": "execute_result"
    }
   ],
   "source": [
    "alt_a = a[0:3,0:2]\n",
    "alt_a"
   ]
  },
  {
   "cell_type": "code",
   "execution_count": 4,
   "id": "4311b2ee-902f-4224-9fa5-2e5f9ff6ff76",
   "metadata": {},
   "outputs": [],
   "source": [
    "alt_a[0,0] = 99999\n",
    "alt_a[1,1] = 88888"
   ]
  },
  {
   "cell_type": "code",
   "execution_count": 5,
   "id": "70250af6-a0bf-4b8f-9350-c3fdefc56a42",
   "metadata": {},
   "outputs": [
    {
     "data": {
      "text/plain": [
       "array([[99999,     3],\n",
       "       [    2, 88888],\n",
       "       [    8,     2]])"
      ]
     },
     "execution_count": 5,
     "metadata": {},
     "output_type": "execute_result"
    }
   ],
   "source": [
    "alt_a"
   ]
  },
  {
   "cell_type": "code",
   "execution_count": 6,
   "id": "693ccfde-2446-432b-8c35-8b0acc29da1e",
   "metadata": {},
   "outputs": [
    {
     "data": {
      "text/plain": [
       "array([[99999,     3,     0,     1,     0],\n",
       "       [    2, 88888,     2,     3,     0],\n",
       "       [    8,     2,     3,     1,     1],\n",
       "       [    2,     7,     0,     4,     2],\n",
       "       [    9,     6,     9,     8,     1]])"
      ]
     },
     "execution_count": 6,
     "metadata": {},
     "output_type": "execute_result"
    }
   ],
   "source": [
    "a"
   ]
  },
  {
   "cell_type": "code",
   "execution_count": 7,
   "id": "7f0fb7d4-b0b1-424e-82c9-7ddbac8f84f7",
   "metadata": {},
   "outputs": [
    {
     "data": {
      "text/plain": [
       "array([[1, 0, 7, 8, 0],\n",
       "       [6, 5, 8, 8, 9],\n",
       "       [3, 2, 8, 1, 8],\n",
       "       [0, 5, 3, 7, 3],\n",
       "       [4, 3, 4, 7, 1]])"
      ]
     },
     "execution_count": 7,
     "metadata": {},
     "output_type": "execute_result"
    }
   ],
   "source": [
    "m = np.random.randint(10, size=(5,5))\n",
    "m"
   ]
  },
  {
   "cell_type": "code",
   "execution_count": 8,
   "id": "52b6250d-b011-409c-ae51-ea6399007a56",
   "metadata": {},
   "outputs": [],
   "source": [
    "alt_b = m[0:3,0:2].copy()"
   ]
  },
  {
   "cell_type": "code",
   "execution_count": 9,
   "id": "1a0784b6-adbb-44b6-bb49-9533fa4441e4",
   "metadata": {},
   "outputs": [
    {
     "data": {
      "text/plain": [
       "array([[1, 0],\n",
       "       [6, 5],\n",
       "       [3, 2]])"
      ]
     },
     "execution_count": 9,
     "metadata": {},
     "output_type": "execute_result"
    }
   ],
   "source": [
    "alt_b"
   ]
  },
  {
   "cell_type": "code",
   "execution_count": 11,
   "id": "043ab6e5-e563-4805-b2ad-8e3d19262c37",
   "metadata": {},
   "outputs": [
    {
     "data": {
      "text/plain": [
       "array([[9999,    0],\n",
       "       [   6,    5],\n",
       "       [   3,    2]])"
      ]
     },
     "execution_count": 11,
     "metadata": {},
     "output_type": "execute_result"
    }
   ],
   "source": [
    "alt_b[0,0] = 9999\n",
    "alt_b"
   ]
  },
  {
   "cell_type": "code",
   "execution_count": 12,
   "id": "5e58fb51-dc82-4e06-a11a-251ceb9bf389",
   "metadata": {},
   "outputs": [
    {
     "data": {
      "text/plain": [
       "array([[1, 0, 7, 8, 0],\n",
       "       [6, 5, 8, 8, 9],\n",
       "       [3, 2, 8, 1, 8],\n",
       "       [0, 5, 3, 7, 3],\n",
       "       [4, 3, 4, 7, 1]])"
      ]
     },
     "execution_count": 12,
     "metadata": {},
     "output_type": "execute_result"
    }
   ],
   "source": [
    "m"
   ]
  },
  {
   "cell_type": "code",
   "execution_count": null,
   "id": "2da36058-8788-4d40-8166-20cd42c64938",
   "metadata": {},
   "outputs": [],
   "source": []
  }
 ],
 "metadata": {
  "kernelspec": {
   "display_name": "Python 3",
   "language": "python",
   "name": "python3"
  },
  "language_info": {
   "codemirror_mode": {
    "name": "ipython",
    "version": 3
   },
   "file_extension": ".py",
   "mimetype": "text/x-python",
   "name": "python",
   "nbconvert_exporter": "python",
   "pygments_lexer": "ipython3",
   "version": "3.8.8"
  }
 },
 "nbformat": 4,
 "nbformat_minor": 5
}
