{
 "cells": [
  {
   "cell_type": "markdown",
   "id": "be1b67f6-9b85-433a-8094-5a0010e9443f",
   "metadata": {},
   "source": [
    "# Fancy Index ile Elemanlara erismek"
   ]
  },
  {
   "cell_type": "code",
   "execution_count": 1,
   "id": "fc1e155c-202f-46a4-8ee1-a69090e5f9f9",
   "metadata": {},
   "outputs": [
    {
     "data": {
      "text/plain": [
       "array([ 0,  3,  6,  9, 12, 15, 18, 21, 24, 27])"
      ]
     },
     "execution_count": 1,
     "metadata": {},
     "output_type": "execute_result"
    }
   ],
   "source": [
    "import numpy as np\n",
    "v = np.arange(0,30,3)\n",
    "v"
   ]
  },
  {
   "cell_type": "code",
   "execution_count": 2,
   "id": "736db6c3-326d-4ec1-9c56-4c0d1427e22f",
   "metadata": {},
   "outputs": [
    {
     "data": {
      "text/plain": [
       "3"
      ]
     },
     "execution_count": 2,
     "metadata": {},
     "output_type": "execute_result"
    }
   ],
   "source": [
    "v[1]"
   ]
  },
  {
   "cell_type": "code",
   "execution_count": 3,
   "id": "3fa0bc30-17a5-46af-9931-aab950b4c74b",
   "metadata": {},
   "outputs": [
    {
     "data": {
      "text/plain": [
       "array([ 3,  9, 15])"
      ]
     },
     "execution_count": 3,
     "metadata": {},
     "output_type": "execute_result"
    }
   ],
   "source": [
    "al_getir=[1,3,5]\n",
    "v[al_getir]"
   ]
  },
  {
   "cell_type": "markdown",
   "id": "c47fd330-985a-4c3c-9e5c-ca04f0d60fcd",
   "metadata": {},
   "source": [
    "## iki boyutta fancy"
   ]
  },
  {
   "cell_type": "code",
   "execution_count": 4,
   "id": "6cf09e33-82c8-43ba-8c66-14343435dc35",
   "metadata": {},
   "outputs": [],
   "source": [
    " m = np.arange(9).reshape((3,3))"
   ]
  },
  {
   "cell_type": "code",
   "execution_count": 5,
   "id": "3325c421-a82c-4328-8985-dfb104739028",
   "metadata": {},
   "outputs": [
    {
     "data": {
      "text/plain": [
       "array([[0, 1, 2],\n",
       "       [3, 4, 5],\n",
       "       [6, 7, 8]])"
      ]
     },
     "execution_count": 5,
     "metadata": {},
     "output_type": "execute_result"
    }
   ],
   "source": [
    "m"
   ]
  },
  {
   "cell_type": "code",
   "execution_count": 6,
   "id": "5411cbc1-dc78-4233-b561-dc83d35fb572",
   "metadata": {},
   "outputs": [],
   "source": [
    "satir = np.array([0,1])\n",
    "sutun = np.array([1,2])"
   ]
  },
  {
   "cell_type": "code",
   "execution_count": 7,
   "id": "eca3d175-69e4-4296-90f3-d14fd88f5664",
   "metadata": {},
   "outputs": [
    {
     "data": {
      "text/plain": [
       "array([1, 5])"
      ]
     },
     "execution_count": 7,
     "metadata": {},
     "output_type": "execute_result"
    }
   ],
   "source": [
    "m[satir, sutun]"
   ]
  },
  {
   "cell_type": "markdown",
   "id": "05ba9671-fd05-43b1-9842-999147ea5a67",
   "metadata": {},
   "source": [
    "## basit index ile fancy index"
   ]
  },
  {
   "cell_type": "code",
   "execution_count": 8,
   "id": "4a2ec508-b782-446f-aebf-cf0a30e1bcb3",
   "metadata": {},
   "outputs": [
    {
     "data": {
      "text/plain": [
       "array([1, 2])"
      ]
     },
     "execution_count": 8,
     "metadata": {},
     "output_type": "execute_result"
    }
   ],
   "source": [
    "m[0, [1,2]]"
   ]
  },
  {
   "cell_type": "code",
   "execution_count": 9,
   "id": "53bd9123-1992-4b01-bd62-8e33c9c8c907",
   "metadata": {},
   "outputs": [
    {
     "data": {
      "text/plain": [
       "array([[0, 1, 2],\n",
       "       [3, 4, 5],\n",
       "       [6, 7, 8]])"
      ]
     },
     "execution_count": 9,
     "metadata": {},
     "output_type": "execute_result"
    }
   ],
   "source": [
    "m"
   ]
  },
  {
   "cell_type": "markdown",
   "id": "adf69e2f-8cdb-4d59-8830-f8a3aebd6eae",
   "metadata": {},
   "source": [
    "## slice ile fancy"
   ]
  },
  {
   "cell_type": "code",
   "execution_count": 10,
   "id": "16cf359e-f52f-4bad-92ee-04ba77cc7bc1",
   "metadata": {},
   "outputs": [
    {
     "data": {
      "text/plain": [
       "array([[1, 2],\n",
       "       [4, 5],\n",
       "       [7, 8]])"
      ]
     },
     "execution_count": 10,
     "metadata": {},
     "output_type": "execute_result"
    }
   ],
   "source": [
    "m[0:, [1,2]]"
   ]
  },
  {
   "cell_type": "code",
   "execution_count": null,
   "id": "4c0d76cc-e63f-4fc8-ab3a-0a418f356ca1",
   "metadata": {},
   "outputs": [],
   "source": []
  }
 ],
 "metadata": {
  "kernelspec": {
   "display_name": "Python 3",
   "language": "python",
   "name": "python3"
  },
  "language_info": {
   "codemirror_mode": {
    "name": "ipython",
    "version": 3
   },
   "file_extension": ".py",
   "mimetype": "text/x-python",
   "name": "python",
   "nbconvert_exporter": "python",
   "pygments_lexer": "ipython3",
   "version": "3.8.8"
  }
 },
 "nbformat": 4,
 "nbformat_minor": 5
}
