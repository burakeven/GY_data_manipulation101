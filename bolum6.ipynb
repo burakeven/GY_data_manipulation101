{
 "cells": [
  {
   "cell_type": "markdown",
   "id": "cbe9b6cf-257b-42a6-8cc4-888ee8569460",
   "metadata": {},
   "source": [
    "# ARRAY AYIRMA"
   ]
  },
  {
   "cell_type": "code",
   "execution_count": 1,
   "id": "c30eff79-be21-46e3-bf15-ab2243e1e18c",
   "metadata": {},
   "outputs": [],
   "source": [
    "import numpy as np"
   ]
  },
  {
   "cell_type": "code",
   "execution_count": 2,
   "id": "80c59c9c-bc54-43d9-95ee-478aa76c918a",
   "metadata": {},
   "outputs": [],
   "source": [
    "x = np.array([1,2,3,99,99,3,2,1])"
   ]
  },
  {
   "cell_type": "code",
   "execution_count": 3,
   "id": "6d5b8a68-565a-4a9c-8eb5-2af297af1f12",
   "metadata": {},
   "outputs": [
    {
     "data": {
      "text/plain": [
       "[array([1, 2, 3]), array([99, 99]), array([3, 2, 1])]"
      ]
     },
     "execution_count": 3,
     "metadata": {},
     "output_type": "execute_result"
    }
   ],
   "source": [
    "np.split(x, [3,5])"
   ]
  },
  {
   "cell_type": "code",
   "execution_count": 4,
   "id": "851390bf-df53-44a5-a75e-877a461582c3",
   "metadata": {},
   "outputs": [],
   "source": [
    "a,b,c=np.split(x, [3,5])"
   ]
  },
  {
   "cell_type": "code",
   "execution_count": 5,
   "id": "75023ba9-4e83-4963-a89f-d34da51197e6",
   "metadata": {},
   "outputs": [
    {
     "data": {
      "text/plain": [
       "(array([1, 2, 3]), array([99, 99]), array([3, 2, 1]))"
      ]
     },
     "execution_count": 5,
     "metadata": {},
     "output_type": "execute_result"
    }
   ],
   "source": [
    "a,b,c"
   ]
  },
  {
   "cell_type": "code",
   "execution_count": 6,
   "id": "fa729553-7bf4-4334-8860-73b4ea57f430",
   "metadata": {},
   "outputs": [
    {
     "data": {
      "text/plain": [
       "array([1, 2, 3])"
      ]
     },
     "execution_count": 6,
     "metadata": {},
     "output_type": "execute_result"
    }
   ],
   "source": [
    "a"
   ]
  },
  {
   "cell_type": "code",
   "execution_count": 7,
   "id": "5337dfaa-747d-4db9-985a-6f5d6b63419c",
   "metadata": {},
   "outputs": [
    {
     "data": {
      "text/plain": [
       "array([99, 99])"
      ]
     },
     "execution_count": 7,
     "metadata": {},
     "output_type": "execute_result"
    }
   ],
   "source": [
    "b"
   ]
  },
  {
   "cell_type": "code",
   "execution_count": 8,
   "id": "34646511-80ab-4abc-9246-b11fa14f0daa",
   "metadata": {},
   "outputs": [
    {
     "data": {
      "text/plain": [
       "array([3, 2, 1])"
      ]
     },
     "execution_count": 8,
     "metadata": {},
     "output_type": "execute_result"
    }
   ],
   "source": [
    "c"
   ]
  },
  {
   "cell_type": "markdown",
   "id": "fd3f3a6f-09cc-407d-833c-1fe4b89fc0f5",
   "metadata": {},
   "source": [
    "## iki boyutlu"
   ]
  },
  {
   "cell_type": "code",
   "execution_count": 9,
   "id": "669e0e3b-c8c4-4a07-94e0-62971cb8cab0",
   "metadata": {},
   "outputs": [],
   "source": [
    "m = np.arange(16).reshape(4,4)"
   ]
  },
  {
   "cell_type": "code",
   "execution_count": 10,
   "id": "190d7e4d-1430-4716-9759-9c36eb4fae4c",
   "metadata": {},
   "outputs": [
    {
     "data": {
      "text/plain": [
       "array([[ 0,  1,  2,  3],\n",
       "       [ 4,  5,  6,  7],\n",
       "       [ 8,  9, 10, 11],\n",
       "       [12, 13, 14, 15]])"
      ]
     },
     "execution_count": 10,
     "metadata": {},
     "output_type": "execute_result"
    }
   ],
   "source": [
    "m"
   ]
  },
  {
   "cell_type": "code",
   "execution_count": 11,
   "id": "e4641bad-44a8-4a15-bd8e-e443d90df601",
   "metadata": {},
   "outputs": [
    {
     "data": {
      "text/plain": [
       "[array([[0, 1, 2, 3],\n",
       "        [4, 5, 6, 7]]),\n",
       " array([[ 8,  9, 10, 11],\n",
       "        [12, 13, 14, 15]])]"
      ]
     },
     "execution_count": 11,
     "metadata": {},
     "output_type": "execute_result"
    }
   ],
   "source": [
    "np.vsplit(m, [2])"
   ]
  },
  {
   "cell_type": "code",
   "execution_count": 12,
   "id": "9b4c2eb4-c699-4f2b-a63a-cd12a973e3b6",
   "metadata": {},
   "outputs": [],
   "source": [
    "ust, alt = np.vsplit(m, [2])"
   ]
  },
  {
   "cell_type": "code",
   "execution_count": 13,
   "id": "095297e9-3007-429d-a38c-d7095d91005e",
   "metadata": {},
   "outputs": [
    {
     "data": {
      "text/plain": [
       "array([[0, 1, 2, 3],\n",
       "       [4, 5, 6, 7]])"
      ]
     },
     "execution_count": 13,
     "metadata": {},
     "output_type": "execute_result"
    }
   ],
   "source": [
    "ust"
   ]
  },
  {
   "cell_type": "code",
   "execution_count": 14,
   "id": "ada78587-b681-4e80-b7b4-453acac101e0",
   "metadata": {},
   "outputs": [
    {
     "data": {
      "text/plain": [
       "array([[ 8,  9, 10, 11],\n",
       "       [12, 13, 14, 15]])"
      ]
     },
     "execution_count": 14,
     "metadata": {},
     "output_type": "execute_result"
    }
   ],
   "source": [
    "alt"
   ]
  },
  {
   "cell_type": "code",
   "execution_count": 15,
   "id": "e835ab79-aa93-4606-9d20-8e2459bc4ccf",
   "metadata": {},
   "outputs": [
    {
     "data": {
      "text/plain": [
       "array([[ 0,  1,  2,  3],\n",
       "       [ 4,  5,  6,  7],\n",
       "       [ 8,  9, 10, 11],\n",
       "       [12, 13, 14, 15]])"
      ]
     },
     "execution_count": 15,
     "metadata": {},
     "output_type": "execute_result"
    }
   ],
   "source": [
    "m"
   ]
  },
  {
   "cell_type": "code",
   "execution_count": 16,
   "id": "4c7fa3b5-140e-49d2-900f-7bdd04eab3fb",
   "metadata": {},
   "outputs": [
    {
     "data": {
      "text/plain": [
       "[array([[ 0,  1],\n",
       "        [ 4,  5],\n",
       "        [ 8,  9],\n",
       "        [12, 13]]),\n",
       " array([[ 2,  3],\n",
       "        [ 6,  7],\n",
       "        [10, 11],\n",
       "        [14, 15]])]"
      ]
     },
     "execution_count": 16,
     "metadata": {},
     "output_type": "execute_result"
    }
   ],
   "source": [
    "np.hsplit(m, [2])"
   ]
  },
  {
   "cell_type": "code",
   "execution_count": 20,
   "id": "4afde86f-af8f-41d1-9e63-e2608767e3e1",
   "metadata": {},
   "outputs": [],
   "source": [
    "sol, sag = np.hsplit(m, [2])"
   ]
  },
  {
   "cell_type": "code",
   "execution_count": 21,
   "id": "a6fafc24-7749-4e6c-9200-6632bce6bd48",
   "metadata": {},
   "outputs": [
    {
     "data": {
      "text/plain": [
       "array([[ 2,  3],\n",
       "       [ 6,  7],\n",
       "       [10, 11],\n",
       "       [14, 15]])"
      ]
     },
     "execution_count": 21,
     "metadata": {},
     "output_type": "execute_result"
    }
   ],
   "source": [
    "sag"
   ]
  },
  {
   "cell_type": "code",
   "execution_count": 22,
   "id": "f9acdf4e-6aa6-4adc-95e6-fb6a551ff36c",
   "metadata": {},
   "outputs": [
    {
     "data": {
      "text/plain": [
       "array([[ 0,  1],\n",
       "       [ 4,  5],\n",
       "       [ 8,  9],\n",
       "       [12, 13]])"
      ]
     },
     "execution_count": 22,
     "metadata": {},
     "output_type": "execute_result"
    }
   ],
   "source": [
    "sol"
   ]
  },
  {
   "cell_type": "code",
   "execution_count": null,
   "id": "a40c09cb-a384-4edf-90ef-7ad5d059f810",
   "metadata": {},
   "outputs": [],
   "source": []
  }
 ],
 "metadata": {
  "kernelspec": {
   "display_name": "Python 3",
   "language": "python",
   "name": "python3"
  },
  "language_info": {
   "codemirror_mode": {
    "name": "ipython",
    "version": 3
   },
   "file_extension": ".py",
   "mimetype": "text/x-python",
   "name": "python",
   "nbconvert_exporter": "python",
   "pygments_lexer": "ipython3",
   "version": "3.8.8"
  }
 },
 "nbformat": 4,
 "nbformat_minor": 5
}
