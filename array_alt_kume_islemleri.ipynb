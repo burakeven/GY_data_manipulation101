{
 "cells": [
  {
   "cell_type": "markdown",
   "id": "199f2c5b-d6ef-4a9d-88ae-e59c5b8d0e25",
   "metadata": {},
   "source": [
    "# Slicing ile Elemanlara Erismek (Array alt kümesine olusmak)"
   ]
  },
  {
   "cell_type": "code",
   "execution_count": 1,
   "id": "c85881ef-435e-4a2b-981b-c034fc75082a",
   "metadata": {},
   "outputs": [],
   "source": [
    "import numpy as np"
   ]
  },
  {
   "cell_type": "code",
   "execution_count": 2,
   "id": "3a6b91f1-8889-4e27-9e82-3591cfa536f7",
   "metadata": {},
   "outputs": [],
   "source": [
    "a = np.arange(20,30)"
   ]
  },
  {
   "cell_type": "code",
   "execution_count": 3,
   "id": "70ae90c2-dc35-4105-b131-01dda5b134c3",
   "metadata": {},
   "outputs": [
    {
     "data": {
      "text/plain": [
       "array([20, 21, 22, 23, 24, 25, 26, 27, 28, 29])"
      ]
     },
     "execution_count": 3,
     "metadata": {},
     "output_type": "execute_result"
    }
   ],
   "source": [
    "a"
   ]
  },
  {
   "cell_type": "code",
   "execution_count": 4,
   "id": "698c718a-205e-47b0-9a3e-da84fd59c65f",
   "metadata": {},
   "outputs": [
    {
     "data": {
      "text/plain": [
       "array([20, 21, 22])"
      ]
     },
     "execution_count": 4,
     "metadata": {},
     "output_type": "execute_result"
    }
   ],
   "source": [
    "a[0:3]"
   ]
  },
  {
   "cell_type": "markdown",
   "id": "1ff2fb68-1ba1-4e12-80e3-87e66d2a44ad",
   "metadata": {},
   "source": [
    "# iki boyutlu slice islemleri"
   ]
  },
  {
   "cell_type": "code",
   "execution_count": 7,
   "id": "87706669-14bf-492d-a5fe-a96f7d5e2615",
   "metadata": {},
   "outputs": [
    {
     "data": {
      "text/plain": [
       "array([[0, 4, 3, 3, 1],\n",
       "       [0, 9, 8, 8, 0],\n",
       "       [5, 6, 6, 8, 2],\n",
       "       [8, 5, 7, 1, 9],\n",
       "       [7, 2, 5, 2, 1]])"
      ]
     },
     "execution_count": 7,
     "metadata": {},
     "output_type": "execute_result"
    }
   ],
   "source": [
    "m = np.random.randint(10, size=(5,5))\n",
    "m"
   ]
  },
  {
   "cell_type": "code",
   "execution_count": 8,
   "id": "c1bcc0c4-b31b-4cbf-8be2-567bda3ccf3a",
   "metadata": {},
   "outputs": [
    {
     "data": {
      "text/plain": [
       "array([0, 0, 5, 8, 7])"
      ]
     },
     "execution_count": 8,
     "metadata": {},
     "output_type": "execute_result"
    }
   ],
   "source": [
    "m[:,0]"
   ]
  },
  {
   "cell_type": "code",
   "execution_count": 9,
   "id": "464799ed-1ef6-4eda-971d-09fcda7695e0",
   "metadata": {},
   "outputs": [
    {
     "data": {
      "text/plain": [
       "array([4, 9, 6, 5, 2])"
      ]
     },
     "execution_count": 9,
     "metadata": {},
     "output_type": "execute_result"
    }
   ],
   "source": [
    "m[:,1]"
   ]
  },
  {
   "cell_type": "code",
   "execution_count": 10,
   "id": "df0b94ce-5a77-4ad4-9175-d4b3d571073a",
   "metadata": {},
   "outputs": [
    {
     "data": {
      "text/plain": [
       "array([5, 6, 6, 8, 2])"
      ]
     },
     "execution_count": 10,
     "metadata": {},
     "output_type": "execute_result"
    }
   ],
   "source": [
    "m[2,:]"
   ]
  },
  {
   "cell_type": "code",
   "execution_count": 11,
   "id": "b850089b-eafa-49c2-8c43-991ca909a7d8",
   "metadata": {},
   "outputs": [
    {
     "data": {
      "text/plain": [
       "array([[0, 4, 3],\n",
       "       [0, 9, 8]])"
      ]
     },
     "execution_count": 11,
     "metadata": {},
     "output_type": "execute_result"
    }
   ],
   "source": [
    "m[0:2, 0:3]"
   ]
  },
  {
   "cell_type": "code",
   "execution_count": 13,
   "id": "9abf3581-8f6a-431e-8ad4-5d188f09c2cd",
   "metadata": {},
   "outputs": [
    {
     "data": {
      "text/plain": [
       "array([[0, 4, 3, 3, 1],\n",
       "       [0, 9, 8, 8, 0],\n",
       "       [5, 6, 6, 8, 2],\n",
       "       [8, 5, 7, 1, 9],\n",
       "       [7, 2, 5, 2, 1]])"
      ]
     },
     "execution_count": 13,
     "metadata": {},
     "output_type": "execute_result"
    }
   ],
   "source": [
    "m"
   ]
  },
  {
   "cell_type": "code",
   "execution_count": 12,
   "id": "8cfa7ebb-6db1-4a5e-868a-876351c24291",
   "metadata": {},
   "outputs": [
    {
     "data": {
      "text/plain": [
       "array([[0, 4],\n",
       "       [0, 9],\n",
       "       [5, 6],\n",
       "       [8, 5],\n",
       "       [7, 2]])"
      ]
     },
     "execution_count": 12,
     "metadata": {},
     "output_type": "execute_result"
    }
   ],
   "source": [
    "m[::, :2]"
   ]
  },
  {
   "cell_type": "code",
   "execution_count": 14,
   "id": "99a5258e-6a74-46f9-91db-ad28abae43fc",
   "metadata": {},
   "outputs": [
    {
     "data": {
      "text/plain": [
       "array([[0, 9],\n",
       "       [5, 6]])"
      ]
     },
     "execution_count": 14,
     "metadata": {},
     "output_type": "execute_result"
    }
   ],
   "source": [
    "m[1:3, 0:2]"
   ]
  },
  {
   "cell_type": "code",
   "execution_count": null,
   "id": "43af19b7-38d6-4e72-9857-5ec68f47f2a0",
   "metadata": {},
   "outputs": [],
   "source": []
  }
 ],
 "metadata": {
  "kernelspec": {
   "display_name": "Python 3",
   "language": "python",
   "name": "python3"
  },
  "language_info": {
   "codemirror_mode": {
    "name": "ipython",
    "version": 3
   },
   "file_extension": ".py",
   "mimetype": "text/x-python",
   "name": "python",
   "nbconvert_exporter": "python",
   "pygments_lexer": "ipython3",
   "version": "3.8.8"
  }
 },
 "nbformat": 4,
 "nbformat_minor": 5
}
