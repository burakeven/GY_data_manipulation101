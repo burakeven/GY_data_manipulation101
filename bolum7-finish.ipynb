{
 "cells": [
  {
   "cell_type": "markdown",
   "id": "f7b9b23d-8de8-4d26-8be2-660ed7daf773",
   "metadata": {},
   "source": [
    "# Array SIRALAMA(sorting)"
   ]
  },
  {
   "cell_type": "code",
   "execution_count": 1,
   "id": "8d07d62b-bee0-468c-ba4b-cc9477e2335b",
   "metadata": {},
   "outputs": [],
   "source": [
    "import numpy as np"
   ]
  },
  {
   "cell_type": "code",
   "execution_count": 2,
   "id": "b763a446-e785-4cf4-9072-8693628a8302",
   "metadata": {},
   "outputs": [],
   "source": [
    "v = np.array([2,1,4,3,5])"
   ]
  },
  {
   "cell_type": "code",
   "execution_count": 4,
   "id": "f0e7f03e-3249-478f-b867-541f40840dc1",
   "metadata": {},
   "outputs": [
    {
     "data": {
      "text/plain": [
       "array([1, 2, 3, 4, 5])"
      ]
     },
     "execution_count": 4,
     "metadata": {},
     "output_type": "execute_result"
    }
   ],
   "source": [
    "np.sort(v)"
   ]
  },
  {
   "cell_type": "markdown",
   "id": "7614d50d-ee84-4c81-94a4-58fb69ada51f",
   "metadata": {},
   "source": [
    "* burada orjinal dizin bozulur, usttekinde bozulmaz"
   ]
  },
  {
   "cell_type": "code",
   "execution_count": 5,
   "id": "4758747d-eda2-4c7d-b3ee-42cac20d0e3c",
   "metadata": {},
   "outputs": [],
   "source": [
    "v.sort()"
   ]
  },
  {
   "cell_type": "code",
   "execution_count": 6,
   "id": "65e54fee-4f01-43f8-bbfd-88ac3dcec1fe",
   "metadata": {},
   "outputs": [
    {
     "data": {
      "text/plain": [
       "array([1, 2, 3, 4, 5])"
      ]
     },
     "execution_count": 6,
     "metadata": {},
     "output_type": "execute_result"
    }
   ],
   "source": [
    "v"
   ]
  },
  {
   "cell_type": "markdown",
   "id": "8af3c4f1-51aa-40e4-9122-e9f13181f512",
   "metadata": {},
   "source": [
    "# iki boyutlu array siralama"
   ]
  },
  {
   "cell_type": "code",
   "execution_count": 7,
   "id": "48592b8c-ec80-4384-910a-57eca08ce44a",
   "metadata": {},
   "outputs": [],
   "source": [
    "m = np.random.normal(20,4, (3,3))"
   ]
  },
  {
   "cell_type": "code",
   "execution_count": 8,
   "id": "c8530cb6-e72c-4a88-9580-c68b9dfd0760",
   "metadata": {},
   "outputs": [
    {
     "data": {
      "text/plain": [
       "array([[28.15620701, 19.35328078, 17.44563662],\n",
       "       [22.73887351, 16.75267186, 17.69934751],\n",
       "       [23.2184076 , 18.4506854 , 19.67712253]])"
      ]
     },
     "execution_count": 8,
     "metadata": {},
     "output_type": "execute_result"
    }
   ],
   "source": [
    "m"
   ]
  },
  {
   "cell_type": "code",
   "execution_count": 9,
   "id": "2dc8b213-8204-4c48-b43e-9db61fe6c1d7",
   "metadata": {},
   "outputs": [
    {
     "data": {
      "text/plain": [
       "array([[17.44563662, 19.35328078, 28.15620701],\n",
       "       [16.75267186, 17.69934751, 22.73887351],\n",
       "       [18.4506854 , 19.67712253, 23.2184076 ]])"
      ]
     },
     "execution_count": 9,
     "metadata": {},
     "output_type": "execute_result"
    }
   ],
   "source": [
    "np.sort(m, axis=1)"
   ]
  },
  {
   "cell_type": "code",
   "execution_count": 10,
   "id": "650ab0f5-d86e-4cca-ab55-184f9a3ef576",
   "metadata": {},
   "outputs": [
    {
     "data": {
      "text/plain": [
       "array([[22.73887351, 16.75267186, 17.44563662],\n",
       "       [23.2184076 , 18.4506854 , 17.69934751],\n",
       "       [28.15620701, 19.35328078, 19.67712253]])"
      ]
     },
     "execution_count": 10,
     "metadata": {},
     "output_type": "execute_result"
    }
   ],
   "source": [
    "np.sort(m, axis=0)"
   ]
  },
  {
   "cell_type": "code",
   "execution_count": null,
   "id": "0574ed1d-d8cc-44ed-9d82-424f3aa83388",
   "metadata": {},
   "outputs": [],
   "source": []
  }
 ],
 "metadata": {
  "kernelspec": {
   "display_name": "Python 3",
   "language": "python",
   "name": "python3"
  },
  "language_info": {
   "codemirror_mode": {
    "name": "ipython",
    "version": 3
   },
   "file_extension": ".py",
   "mimetype": "text/x-python",
   "name": "python",
   "nbconvert_exporter": "python",
   "pygments_lexer": "ipython3",
   "version": "3.8.8"
  }
 },
 "nbformat": 4,
 "nbformat_minor": 5
}
